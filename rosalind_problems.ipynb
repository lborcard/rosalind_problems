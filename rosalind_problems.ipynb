{
 "cells": [
  {
   "cell_type": "code",
   "execution_count": 44,
   "id": "96c8cbb2",
   "metadata": {},
   "outputs": [
    {
     "name": "stdout",
     "output_type": "stream",
     "text": [
      "64\n"
     ]
    }
   ],
   "source": [
    "k = 3\n",
    "N = 5\n",
    "\n",
    "f1 = 1 + 3\n",
    "f2 = f1 \n",
    "f3 = f1 + f1*k\n",
    "f4 = f3\n",
    "f5 = f3 + f3*k\n",
    "print(f5)"
   ]
  },
  {
   "cell_type": "code",
   "execution_count": 23,
   "id": "2f9ab00c",
   "metadata": {},
   "outputs": [
    {
     "name": "stdout",
     "output_type": "stream",
     "text": [
      "7119636644137688274421\n"
     ]
    }
   ],
   "source": [
    "def rabbits(N,k):\n",
    "    memo = {}\n",
    "    args = (N,k)\n",
    "    if args in memo:\n",
    "        return(memo[args])\n",
    "    for i in range(1,N+1):\n",
    "        # print(i)\n",
    "        \n",
    "        if i == 1:\n",
    "            past = {i:  1}\n",
    "        elif i == 2:\n",
    "            past[i] = 1\n",
    "        else:\n",
    "            past[i] = past[i-1] + past[i-2]*k\n",
    "            \n",
    "    print(past[N])    \n",
    "\n",
    "rabbits(55,4)        "
   ]
  },
  {
   "cell_type": "code",
   "execution_count": 22,
   "id": "b6e47a27",
   "metadata": {},
   "outputs": [
    {
     "ename": "KeyboardInterrupt",
     "evalue": "",
     "output_type": "error",
     "traceback": [
      "\u001b[0;31m---------------------------------------------------------------------------\u001b[0m",
      "\u001b[0;31mKeyboardInterrupt\u001b[0m                         Traceback (most recent call last)",
      "\u001b[1;32m/Users/loicborcard/Documents/Bioinformatics/Projects/rosalind_problems/rosalind_problems.ipynb Cell 3\u001b[0m in \u001b[0;36m<cell line: 8>\u001b[0;34m()\u001b[0m\n\u001b[1;32m      <a href='vscode-notebook-cell:/Users/loicborcard/Documents/Bioinformatics/Projects/rosalind_problems/rosalind_problems.ipynb#W3sZmlsZQ%3D%3D?line=4'>5</a>\u001b[0m         \u001b[39mreturn\u001b[39;00m \u001b[39m1\u001b[39m\n\u001b[1;32m      <a href='vscode-notebook-cell:/Users/loicborcard/Documents/Bioinformatics/Projects/rosalind_problems/rosalind_problems.ipynb#W3sZmlsZQ%3D%3D?line=5'>6</a>\u001b[0m     \u001b[39mreturn\u001b[39;00m fib(n\u001b[39m-\u001b[39m\u001b[39m1\u001b[39m, k) \u001b[39m+\u001b[39m k \u001b[39m*\u001b[39m fib(n\u001b[39m-\u001b[39m\u001b[39m2\u001b[39m, k)\n\u001b[0;32m----> <a href='vscode-notebook-cell:/Users/loicborcard/Documents/Bioinformatics/Projects/rosalind_problems/rosalind_problems.ipynb#W3sZmlsZQ%3D%3D?line=7'>8</a>\u001b[0m fib(\u001b[39m55\u001b[39;49m,\u001b[39m4\u001b[39;49m)\n",
      "\u001b[1;32m/Users/loicborcard/Documents/Bioinformatics/Projects/rosalind_problems/rosalind_problems.ipynb Cell 3\u001b[0m in \u001b[0;36mfib\u001b[0;34m(n, k)\u001b[0m\n\u001b[1;32m      <a href='vscode-notebook-cell:/Users/loicborcard/Documents/Bioinformatics/Projects/rosalind_problems/rosalind_problems.ipynb#W3sZmlsZQ%3D%3D?line=3'>4</a>\u001b[0m \u001b[39mif\u001b[39;00m n \u001b[39m==\u001b[39m \u001b[39m2\u001b[39m:\n\u001b[1;32m      <a href='vscode-notebook-cell:/Users/loicborcard/Documents/Bioinformatics/Projects/rosalind_problems/rosalind_problems.ipynb#W3sZmlsZQ%3D%3D?line=4'>5</a>\u001b[0m     \u001b[39mreturn\u001b[39;00m \u001b[39m1\u001b[39m\n\u001b[0;32m----> <a href='vscode-notebook-cell:/Users/loicborcard/Documents/Bioinformatics/Projects/rosalind_problems/rosalind_problems.ipynb#W3sZmlsZQ%3D%3D?line=5'>6</a>\u001b[0m \u001b[39mreturn\u001b[39;00m fib(n\u001b[39m-\u001b[39;49m\u001b[39m1\u001b[39;49m, k) \u001b[39m+\u001b[39m k \u001b[39m*\u001b[39m fib(n\u001b[39m-\u001b[39m\u001b[39m2\u001b[39m, k)\n",
      "\u001b[1;32m/Users/loicborcard/Documents/Bioinformatics/Projects/rosalind_problems/rosalind_problems.ipynb Cell 3\u001b[0m in \u001b[0;36mfib\u001b[0;34m(n, k)\u001b[0m\n\u001b[1;32m      <a href='vscode-notebook-cell:/Users/loicborcard/Documents/Bioinformatics/Projects/rosalind_problems/rosalind_problems.ipynb#W3sZmlsZQ%3D%3D?line=3'>4</a>\u001b[0m \u001b[39mif\u001b[39;00m n \u001b[39m==\u001b[39m \u001b[39m2\u001b[39m:\n\u001b[1;32m      <a href='vscode-notebook-cell:/Users/loicborcard/Documents/Bioinformatics/Projects/rosalind_problems/rosalind_problems.ipynb#W3sZmlsZQ%3D%3D?line=4'>5</a>\u001b[0m     \u001b[39mreturn\u001b[39;00m \u001b[39m1\u001b[39m\n\u001b[0;32m----> <a href='vscode-notebook-cell:/Users/loicborcard/Documents/Bioinformatics/Projects/rosalind_problems/rosalind_problems.ipynb#W3sZmlsZQ%3D%3D?line=5'>6</a>\u001b[0m \u001b[39mreturn\u001b[39;00m fib(n\u001b[39m-\u001b[39;49m\u001b[39m1\u001b[39;49m, k) \u001b[39m+\u001b[39m k \u001b[39m*\u001b[39m fib(n\u001b[39m-\u001b[39m\u001b[39m2\u001b[39m, k)\n",
      "    \u001b[0;31m[... skipping similar frames: fib at line 6 (36 times)]\u001b[0m\n",
      "\u001b[1;32m/Users/loicborcard/Documents/Bioinformatics/Projects/rosalind_problems/rosalind_problems.ipynb Cell 3\u001b[0m in \u001b[0;36mfib\u001b[0;34m(n, k)\u001b[0m\n\u001b[1;32m      <a href='vscode-notebook-cell:/Users/loicborcard/Documents/Bioinformatics/Projects/rosalind_problems/rosalind_problems.ipynb#W3sZmlsZQ%3D%3D?line=3'>4</a>\u001b[0m \u001b[39mif\u001b[39;00m n \u001b[39m==\u001b[39m \u001b[39m2\u001b[39m:\n\u001b[1;32m      <a href='vscode-notebook-cell:/Users/loicborcard/Documents/Bioinformatics/Projects/rosalind_problems/rosalind_problems.ipynb#W3sZmlsZQ%3D%3D?line=4'>5</a>\u001b[0m     \u001b[39mreturn\u001b[39;00m \u001b[39m1\u001b[39m\n\u001b[0;32m----> <a href='vscode-notebook-cell:/Users/loicborcard/Documents/Bioinformatics/Projects/rosalind_problems/rosalind_problems.ipynb#W3sZmlsZQ%3D%3D?line=5'>6</a>\u001b[0m \u001b[39mreturn\u001b[39;00m fib(n\u001b[39m-\u001b[39;49m\u001b[39m1\u001b[39;49m, k) \u001b[39m+\u001b[39m k \u001b[39m*\u001b[39m fib(n\u001b[39m-\u001b[39m\u001b[39m2\u001b[39m, k)\n",
      "\u001b[1;32m/Users/loicborcard/Documents/Bioinformatics/Projects/rosalind_problems/rosalind_problems.ipynb Cell 3\u001b[0m in \u001b[0;36mfib\u001b[0;34m(n, k)\u001b[0m\n\u001b[0;32m----> <a href='vscode-notebook-cell:/Users/loicborcard/Documents/Bioinformatics/Projects/rosalind_problems/rosalind_problems.ipynb#W3sZmlsZQ%3D%3D?line=0'>1</a>\u001b[0m \u001b[39mdef\u001b[39;00m \u001b[39mfib\u001b[39m(n,k\u001b[39m=\u001b[39m\u001b[39m1\u001b[39m):\n\u001b[1;32m      <a href='vscode-notebook-cell:/Users/loicborcard/Documents/Bioinformatics/Projects/rosalind_problems/rosalind_problems.ipynb#W3sZmlsZQ%3D%3D?line=1'>2</a>\u001b[0m     \u001b[39mif\u001b[39;00m n \u001b[39m==\u001b[39m \u001b[39m1\u001b[39m:\n\u001b[1;32m      <a href='vscode-notebook-cell:/Users/loicborcard/Documents/Bioinformatics/Projects/rosalind_problems/rosalind_problems.ipynb#W3sZmlsZQ%3D%3D?line=2'>3</a>\u001b[0m         \u001b[39mreturn\u001b[39;00m \u001b[39m1\u001b[39m\n",
      "\u001b[0;31mKeyboardInterrupt\u001b[0m: "
     ]
    }
   ],
   "source": [
    "def fib(n,k=1):\n",
    "    if n == 1:\n",
    "        return 1\n",
    "    if n == 2:\n",
    "        return 1\n",
    "    return fib(n-1, k) + k * fib(n-2, k)\n",
    "\n",
    "fib(55,4)"
   ]
  },
  {
   "cell_type": "code",
   "execution_count": null,
   "id": "b7f704e2",
   "metadata": {},
   "outputs": [],
   "source": []
  }
 ],
 "metadata": {
  "kernelspec": {
   "display_name": "Python 3.10.4 64-bit",
   "language": "python",
   "name": "python3"
  },
  "language_info": {
   "codemirror_mode": {
    "name": "ipython",
    "version": 3
   },
   "file_extension": ".py",
   "mimetype": "text/x-python",
   "name": "python",
   "nbconvert_exporter": "python",
   "pygments_lexer": "ipython3",
   "version": "3.10.4"
  },
  "vscode": {
   "interpreter": {
    "hash": "aee8b7b246df8f9039afb4144a1f6fd8d2ca17a180786b69acc140d282b71a49"
   }
  }
 },
 "nbformat": 4,
 "nbformat_minor": 5
}
