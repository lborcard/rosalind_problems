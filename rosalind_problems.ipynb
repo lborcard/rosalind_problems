{
 "cells": [
  {
   "cell_type": "code",
   "execution_count": 44,
   "id": "96c8cbb2",
   "metadata": {},
   "outputs": [
    {
     "name": "stdout",
     "output_type": "stream",
     "text": [
      "64\n"
     ]
    }
   ],
   "source": [
    "k = 3\n",
    "N = 5\n",
    "\n",
    "f1 = 1 + 3\n",
    "f2 = f1 \n",
    "f3 = f1 + f1*k\n",
    "f4 = f3\n",
    "f5 = f3 + f3*k\n",
    "print(f5)"
   ]
  },
  {
   "cell_type": "code",
   "execution_count": 54,
   "id": "2f9ab00c",
   "metadata": {},
   "outputs": [
    {
     "name": "stdout",
     "output_type": "stream",
     "text": [
      "1\n",
      "2\n",
      "3\n",
      "{1: 6, 2: 36, 3: 252}\n"
     ]
    }
   ],
   "source": [
    "k = 5\n",
    "N = 3\n",
    "for i in range(1,N+1):\n",
    "    print(i)\n",
    "    \n",
    "    if i == 1:\n",
    "        past = {i:  1+k}\n",
    "    elif i == 2:\n",
    "        past[i] = past[1] + past[1]*k\n",
    "    else:\n",
    "        past[i] = past[i-1] + past[i-2] + (past[i-1] + past[i-2])*k\n",
    "        \n",
    "\n",
    "        \n",
    "print(past)    "
   ]
  },
  {
   "cell_type": "code",
   "execution_count": 18,
   "id": "416152be",
   "metadata": {},
   "outputs": [
    {
     "name": "stdout",
     "output_type": "stream",
     "text": [
      "{1: 4, 2: 4, 3: 16, 4: 16}\n",
      "16\n"
     ]
    }
   ],
   "source": [
    "print(past)\n",
    "print(past[list(past)[-1]])"
   ]
  },
  {
   "cell_type": "code",
   "execution_count": null,
   "id": "b6e47a27",
   "metadata": {},
   "outputs": [],
   "source": []
  }
 ],
 "metadata": {
  "kernelspec": {
   "display_name": "Python 3 (ipykernel)",
   "language": "python",
   "name": "python3"
  },
  "language_info": {
   "codemirror_mode": {
    "name": "ipython",
    "version": 3
   },
   "file_extension": ".py",
   "mimetype": "text/x-python",
   "name": "python",
   "nbconvert_exporter": "python",
   "pygments_lexer": "ipython3",
   "version": "3.8.3"
  }
 },
 "nbformat": 4,
 "nbformat_minor": 5
}
